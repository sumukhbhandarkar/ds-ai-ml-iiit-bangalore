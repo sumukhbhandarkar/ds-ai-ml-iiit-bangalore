{
 "cells": [
  {
   "cell_type": "code",
   "id": "initial_id",
   "metadata": {
    "collapsed": true,
    "ExecuteTime": {
     "end_time": "2025-06-01T12:46:47.233141Z",
     "start_time": "2025-06-01T12:46:46.625031Z"
    }
   },
   "source": [
    "import pandas as pd\n",
    "import numpy as np"
   ],
   "outputs": [],
   "execution_count": 1
  },
  {
   "metadata": {
    "ExecuteTime": {
     "end_time": "2025-06-01T12:47:07.577253Z",
     "start_time": "2025-06-01T12:47:07.550674Z"
    }
   },
   "cell_type": "code",
   "source": "data = pd.read_csv('ikea.csv', index_col=0)",
   "id": "b48fd698d081e17d",
   "outputs": [],
   "execution_count": 3
  },
  {
   "metadata": {
    "ExecuteTime": {
     "end_time": "2025-06-01T12:56:59.295765Z",
     "start_time": "2025-06-01T12:56:59.287577Z"
    }
   },
   "cell_type": "code",
   "source": "data.head(10)",
   "id": "c63306caf5438cd8",
   "outputs": [
    {
     "data": {
      "text/plain": [
       "    item_id                   name       category   price     old_price  \\\n",
       "0  90420332               FREKVENS  Bar furniture   265.0  No old price   \n",
       "1    368814              NORDVIKEN  Bar furniture   995.0  No old price   \n",
       "2   9333523  NORDVIKEN / NORDVIKEN  Bar furniture  2095.0  No old price   \n",
       "3  80155205                   STIG  Bar furniture    69.0  No old price   \n",
       "4  30180504                NORBERG  Bar furniture   225.0  No old price   \n",
       "5  10122647                 INGOLF  Bar furniture   345.0  No old price   \n",
       "6  70404875               FRANKLIN  Bar furniture   129.0  No old price   \n",
       "7  60155602                DALFRED  Bar furniture   195.0  No old price   \n",
       "8  50406465               FRANKLIN  Bar furniture   129.0  No old price   \n",
       "9  69304221    EKEDALEN / EKEDALEN  Bar furniture  2176.0      SR 2,375   \n",
       "\n",
       "   sellable_online                                               link  \\\n",
       "0             True  https://www.ikea.com/sa/en/p/frekvens-bar-tabl...   \n",
       "1            False  https://www.ikea.com/sa/en/p/nordviken-bar-tab...   \n",
       "2            False  https://www.ikea.com/sa/en/p/nordviken-nordvik...   \n",
       "3             True  https://www.ikea.com/sa/en/p/stig-bar-stool-wi...   \n",
       "4             True  https://www.ikea.com/sa/en/p/norberg-wall-moun...   \n",
       "5             True  https://www.ikea.com/sa/en/p/ingolf-bar-stool-...   \n",
       "6             True  https://www.ikea.com/sa/en/p/franklin-bar-stoo...   \n",
       "7             True  https://www.ikea.com/sa/en/p/dalfred-bar-stool...   \n",
       "8             True  https://www.ikea.com/sa/en/p/franklin-bar-stoo...   \n",
       "9             True  https://www.ikea.com/sa/en/p/ekedalen-ekedalen...   \n",
       "\n",
       "  other_colors                                  short_description  \\\n",
       "0           No           Bar table, in/outdoor,          51x51 cm   \n",
       "1           No                      Bar table,          140x80 cm   \n",
       "2           No                         Bar table and 4 bar stools   \n",
       "3          Yes            Bar stool with backrest,          74 cm   \n",
       "4           No          Wall-mounted drop-leaf table,         ...   \n",
       "5           No            Bar stool with backrest,          63 cm   \n",
       "6           No          Bar stool with backrest, foldable,    ...   \n",
       "7           No                       Bar stool,          63-74 cm   \n",
       "8           No          Bar stool with backrest, foldable,    ...   \n",
       "9           No                         Bar table and 4 bar stools   \n",
       "\n",
       "               designer  depth  height  width  \n",
       "0  Nicholai Wiig Hansen    NaN    99.0   51.0  \n",
       "1     Francis Cayouette    NaN   105.0   80.0  \n",
       "2     Francis Cayouette    NaN     NaN    NaN  \n",
       "3         Henrik Preutz   50.0   100.0   60.0  \n",
       "4        Marcus Arvonen   60.0    43.0   74.0  \n",
       "5          Carina Bengs   45.0    91.0   40.0  \n",
       "6   K Hagberg/M Hagberg   44.0    95.0   50.0  \n",
       "7           Sarah Fager   50.0     NaN   50.0  \n",
       "8   K Hagberg/M Hagberg   44.0    95.0   50.0  \n",
       "9       Ehlén Johansson    NaN     NaN    NaN  "
      ],
      "text/html": [
       "<div>\n",
       "<style scoped>\n",
       "    .dataframe tbody tr th:only-of-type {\n",
       "        vertical-align: middle;\n",
       "    }\n",
       "\n",
       "    .dataframe tbody tr th {\n",
       "        vertical-align: top;\n",
       "    }\n",
       "\n",
       "    .dataframe thead th {\n",
       "        text-align: right;\n",
       "    }\n",
       "</style>\n",
       "<table border=\"1\" class=\"dataframe\">\n",
       "  <thead>\n",
       "    <tr style=\"text-align: right;\">\n",
       "      <th></th>\n",
       "      <th>item_id</th>\n",
       "      <th>name</th>\n",
       "      <th>category</th>\n",
       "      <th>price</th>\n",
       "      <th>old_price</th>\n",
       "      <th>sellable_online</th>\n",
       "      <th>link</th>\n",
       "      <th>other_colors</th>\n",
       "      <th>short_description</th>\n",
       "      <th>designer</th>\n",
       "      <th>depth</th>\n",
       "      <th>height</th>\n",
       "      <th>width</th>\n",
       "    </tr>\n",
       "  </thead>\n",
       "  <tbody>\n",
       "    <tr>\n",
       "      <th>0</th>\n",
       "      <td>90420332</td>\n",
       "      <td>FREKVENS</td>\n",
       "      <td>Bar furniture</td>\n",
       "      <td>265.0</td>\n",
       "      <td>No old price</td>\n",
       "      <td>True</td>\n",
       "      <td>https://www.ikea.com/sa/en/p/frekvens-bar-tabl...</td>\n",
       "      <td>No</td>\n",
       "      <td>Bar table, in/outdoor,          51x51 cm</td>\n",
       "      <td>Nicholai Wiig Hansen</td>\n",
       "      <td>NaN</td>\n",
       "      <td>99.0</td>\n",
       "      <td>51.0</td>\n",
       "    </tr>\n",
       "    <tr>\n",
       "      <th>1</th>\n",
       "      <td>368814</td>\n",
       "      <td>NORDVIKEN</td>\n",
       "      <td>Bar furniture</td>\n",
       "      <td>995.0</td>\n",
       "      <td>No old price</td>\n",
       "      <td>False</td>\n",
       "      <td>https://www.ikea.com/sa/en/p/nordviken-bar-tab...</td>\n",
       "      <td>No</td>\n",
       "      <td>Bar table,          140x80 cm</td>\n",
       "      <td>Francis Cayouette</td>\n",
       "      <td>NaN</td>\n",
       "      <td>105.0</td>\n",
       "      <td>80.0</td>\n",
       "    </tr>\n",
       "    <tr>\n",
       "      <th>2</th>\n",
       "      <td>9333523</td>\n",
       "      <td>NORDVIKEN / NORDVIKEN</td>\n",
       "      <td>Bar furniture</td>\n",
       "      <td>2095.0</td>\n",
       "      <td>No old price</td>\n",
       "      <td>False</td>\n",
       "      <td>https://www.ikea.com/sa/en/p/nordviken-nordvik...</td>\n",
       "      <td>No</td>\n",
       "      <td>Bar table and 4 bar stools</td>\n",
       "      <td>Francis Cayouette</td>\n",
       "      <td>NaN</td>\n",
       "      <td>NaN</td>\n",
       "      <td>NaN</td>\n",
       "    </tr>\n",
       "    <tr>\n",
       "      <th>3</th>\n",
       "      <td>80155205</td>\n",
       "      <td>STIG</td>\n",
       "      <td>Bar furniture</td>\n",
       "      <td>69.0</td>\n",
       "      <td>No old price</td>\n",
       "      <td>True</td>\n",
       "      <td>https://www.ikea.com/sa/en/p/stig-bar-stool-wi...</td>\n",
       "      <td>Yes</td>\n",
       "      <td>Bar stool with backrest,          74 cm</td>\n",
       "      <td>Henrik Preutz</td>\n",
       "      <td>50.0</td>\n",
       "      <td>100.0</td>\n",
       "      <td>60.0</td>\n",
       "    </tr>\n",
       "    <tr>\n",
       "      <th>4</th>\n",
       "      <td>30180504</td>\n",
       "      <td>NORBERG</td>\n",
       "      <td>Bar furniture</td>\n",
       "      <td>225.0</td>\n",
       "      <td>No old price</td>\n",
       "      <td>True</td>\n",
       "      <td>https://www.ikea.com/sa/en/p/norberg-wall-moun...</td>\n",
       "      <td>No</td>\n",
       "      <td>Wall-mounted drop-leaf table,         ...</td>\n",
       "      <td>Marcus Arvonen</td>\n",
       "      <td>60.0</td>\n",
       "      <td>43.0</td>\n",
       "      <td>74.0</td>\n",
       "    </tr>\n",
       "    <tr>\n",
       "      <th>5</th>\n",
       "      <td>10122647</td>\n",
       "      <td>INGOLF</td>\n",
       "      <td>Bar furniture</td>\n",
       "      <td>345.0</td>\n",
       "      <td>No old price</td>\n",
       "      <td>True</td>\n",
       "      <td>https://www.ikea.com/sa/en/p/ingolf-bar-stool-...</td>\n",
       "      <td>No</td>\n",
       "      <td>Bar stool with backrest,          63 cm</td>\n",
       "      <td>Carina Bengs</td>\n",
       "      <td>45.0</td>\n",
       "      <td>91.0</td>\n",
       "      <td>40.0</td>\n",
       "    </tr>\n",
       "    <tr>\n",
       "      <th>6</th>\n",
       "      <td>70404875</td>\n",
       "      <td>FRANKLIN</td>\n",
       "      <td>Bar furniture</td>\n",
       "      <td>129.0</td>\n",
       "      <td>No old price</td>\n",
       "      <td>True</td>\n",
       "      <td>https://www.ikea.com/sa/en/p/franklin-bar-stoo...</td>\n",
       "      <td>No</td>\n",
       "      <td>Bar stool with backrest, foldable,    ...</td>\n",
       "      <td>K Hagberg/M Hagberg</td>\n",
       "      <td>44.0</td>\n",
       "      <td>95.0</td>\n",
       "      <td>50.0</td>\n",
       "    </tr>\n",
       "    <tr>\n",
       "      <th>7</th>\n",
       "      <td>60155602</td>\n",
       "      <td>DALFRED</td>\n",
       "      <td>Bar furniture</td>\n",
       "      <td>195.0</td>\n",
       "      <td>No old price</td>\n",
       "      <td>True</td>\n",
       "      <td>https://www.ikea.com/sa/en/p/dalfred-bar-stool...</td>\n",
       "      <td>No</td>\n",
       "      <td>Bar stool,          63-74 cm</td>\n",
       "      <td>Sarah Fager</td>\n",
       "      <td>50.0</td>\n",
       "      <td>NaN</td>\n",
       "      <td>50.0</td>\n",
       "    </tr>\n",
       "    <tr>\n",
       "      <th>8</th>\n",
       "      <td>50406465</td>\n",
       "      <td>FRANKLIN</td>\n",
       "      <td>Bar furniture</td>\n",
       "      <td>129.0</td>\n",
       "      <td>No old price</td>\n",
       "      <td>True</td>\n",
       "      <td>https://www.ikea.com/sa/en/p/franklin-bar-stoo...</td>\n",
       "      <td>No</td>\n",
       "      <td>Bar stool with backrest, foldable,    ...</td>\n",
       "      <td>K Hagberg/M Hagberg</td>\n",
       "      <td>44.0</td>\n",
       "      <td>95.0</td>\n",
       "      <td>50.0</td>\n",
       "    </tr>\n",
       "    <tr>\n",
       "      <th>9</th>\n",
       "      <td>69304221</td>\n",
       "      <td>EKEDALEN / EKEDALEN</td>\n",
       "      <td>Bar furniture</td>\n",
       "      <td>2176.0</td>\n",
       "      <td>SR 2,375</td>\n",
       "      <td>True</td>\n",
       "      <td>https://www.ikea.com/sa/en/p/ekedalen-ekedalen...</td>\n",
       "      <td>No</td>\n",
       "      <td>Bar table and 4 bar stools</td>\n",
       "      <td>Ehlén Johansson</td>\n",
       "      <td>NaN</td>\n",
       "      <td>NaN</td>\n",
       "      <td>NaN</td>\n",
       "    </tr>\n",
       "  </tbody>\n",
       "</table>\n",
       "</div>"
      ]
     },
     "execution_count": 6,
     "metadata": {},
     "output_type": "execute_result"
    }
   ],
   "execution_count": 6
  },
  {
   "metadata": {
    "ExecuteTime": {
     "end_time": "2025-06-01T12:56:38.714995Z",
     "start_time": "2025-06-01T12:56:38.689565Z"
    }
   },
   "cell_type": "code",
   "source": "data.info()",
   "id": "881073f84381f646",
   "outputs": [
    {
     "name": "stdout",
     "output_type": "stream",
     "text": [
      "<class 'pandas.core.frame.DataFrame'>\n",
      "Index: 3694 entries, 0 to 3693\n",
      "Data columns (total 13 columns):\n",
      " #   Column             Non-Null Count  Dtype  \n",
      "---  ------             --------------  -----  \n",
      " 0   item_id            3694 non-null   int64  \n",
      " 1   name               3694 non-null   object \n",
      " 2   category           3694 non-null   object \n",
      " 3   price              3694 non-null   float64\n",
      " 4   old_price          3694 non-null   object \n",
      " 5   sellable_online    3694 non-null   bool   \n",
      " 6   link               3694 non-null   object \n",
      " 7   other_colors       3694 non-null   object \n",
      " 8   short_description  3694 non-null   object \n",
      " 9   designer           3694 non-null   object \n",
      " 10  depth              2231 non-null   float64\n",
      " 11  height             2706 non-null   float64\n",
      " 12  width              3105 non-null   float64\n",
      "dtypes: bool(1), float64(4), int64(1), object(7)\n",
      "memory usage: 378.8+ KB\n"
     ]
    }
   ],
   "execution_count": 5
  },
  {
   "metadata": {
    "ExecuteTime": {
     "end_time": "2025-06-01T13:02:44.271880Z",
     "start_time": "2025-06-01T13:02:44.252500Z"
    }
   },
   "cell_type": "code",
   "source": "data['other_colors'].value_counts()",
   "id": "27403630039283ae",
   "outputs": [
    {
     "data": {
      "text/plain": [
       "other_colors\n",
       "No     2182\n",
       "Yes    1512\n",
       "Name: count, dtype: int64"
      ]
     },
     "execution_count": 11,
     "metadata": {},
     "output_type": "execute_result"
    }
   ],
   "execution_count": 11
  },
  {
   "metadata": {
    "ExecuteTime": {
     "end_time": "2025-06-01T12:59:35.390552Z",
     "start_time": "2025-06-01T12:59:35.371101Z"
    }
   },
   "cell_type": "code",
   "source": "data.describe()",
   "id": "52adb0a959501fff",
   "outputs": [
    {
     "data": {
      "text/plain": [
       "            item_id        price        depth       height        width\n",
       "count  3.694000e+03  3694.000000  2231.000000  2706.000000  3105.000000\n",
       "mean   4.863240e+07  1078.208419    54.379202   101.679970   104.470853\n",
       "std    2.888709e+07  1374.652494    29.958351    61.097585    71.133771\n",
       "min    5.848700e+04     3.000000     1.000000     1.000000     1.000000\n",
       "25%    2.039057e+07   180.900000    38.000000    67.000000    60.000000\n",
       "50%    4.928808e+07   544.700000    47.000000    83.000000    80.000000\n",
       "75%    7.040357e+07  1429.500000    60.000000   124.000000   140.000000\n",
       "max    9.993262e+07  9585.000000   257.000000   700.000000   420.000000"
      ],
      "text/html": [
       "<div>\n",
       "<style scoped>\n",
       "    .dataframe tbody tr th:only-of-type {\n",
       "        vertical-align: middle;\n",
       "    }\n",
       "\n",
       "    .dataframe tbody tr th {\n",
       "        vertical-align: top;\n",
       "    }\n",
       "\n",
       "    .dataframe thead th {\n",
       "        text-align: right;\n",
       "    }\n",
       "</style>\n",
       "<table border=\"1\" class=\"dataframe\">\n",
       "  <thead>\n",
       "    <tr style=\"text-align: right;\">\n",
       "      <th></th>\n",
       "      <th>item_id</th>\n",
       "      <th>price</th>\n",
       "      <th>depth</th>\n",
       "      <th>height</th>\n",
       "      <th>width</th>\n",
       "    </tr>\n",
       "  </thead>\n",
       "  <tbody>\n",
       "    <tr>\n",
       "      <th>count</th>\n",
       "      <td>3.694000e+03</td>\n",
       "      <td>3694.000000</td>\n",
       "      <td>2231.000000</td>\n",
       "      <td>2706.000000</td>\n",
       "      <td>3105.000000</td>\n",
       "    </tr>\n",
       "    <tr>\n",
       "      <th>mean</th>\n",
       "      <td>4.863240e+07</td>\n",
       "      <td>1078.208419</td>\n",
       "      <td>54.379202</td>\n",
       "      <td>101.679970</td>\n",
       "      <td>104.470853</td>\n",
       "    </tr>\n",
       "    <tr>\n",
       "      <th>std</th>\n",
       "      <td>2.888709e+07</td>\n",
       "      <td>1374.652494</td>\n",
       "      <td>29.958351</td>\n",
       "      <td>61.097585</td>\n",
       "      <td>71.133771</td>\n",
       "    </tr>\n",
       "    <tr>\n",
       "      <th>min</th>\n",
       "      <td>5.848700e+04</td>\n",
       "      <td>3.000000</td>\n",
       "      <td>1.000000</td>\n",
       "      <td>1.000000</td>\n",
       "      <td>1.000000</td>\n",
       "    </tr>\n",
       "    <tr>\n",
       "      <th>25%</th>\n",
       "      <td>2.039057e+07</td>\n",
       "      <td>180.900000</td>\n",
       "      <td>38.000000</td>\n",
       "      <td>67.000000</td>\n",
       "      <td>60.000000</td>\n",
       "    </tr>\n",
       "    <tr>\n",
       "      <th>50%</th>\n",
       "      <td>4.928808e+07</td>\n",
       "      <td>544.700000</td>\n",
       "      <td>47.000000</td>\n",
       "      <td>83.000000</td>\n",
       "      <td>80.000000</td>\n",
       "    </tr>\n",
       "    <tr>\n",
       "      <th>75%</th>\n",
       "      <td>7.040357e+07</td>\n",
       "      <td>1429.500000</td>\n",
       "      <td>60.000000</td>\n",
       "      <td>124.000000</td>\n",
       "      <td>140.000000</td>\n",
       "    </tr>\n",
       "    <tr>\n",
       "      <th>max</th>\n",
       "      <td>9.993262e+07</td>\n",
       "      <td>9585.000000</td>\n",
       "      <td>257.000000</td>\n",
       "      <td>700.000000</td>\n",
       "      <td>420.000000</td>\n",
       "    </tr>\n",
       "  </tbody>\n",
       "</table>\n",
       "</div>"
      ]
     },
     "execution_count": 10,
     "metadata": {},
     "output_type": "execute_result"
    }
   ],
   "execution_count": 10
  },
  {
   "metadata": {
    "ExecuteTime": {
     "end_time": "2025-06-01T13:18:49.020212Z",
     "start_time": "2025-06-01T13:18:49.017426Z"
    }
   },
   "cell_type": "code",
   "source": "data.size",
   "id": "bffd97ad0835ad8e",
   "outputs": [
    {
     "data": {
      "text/plain": [
       "48022"
      ]
     },
     "execution_count": 15,
     "metadata": {},
     "output_type": "execute_result"
    }
   ],
   "execution_count": 15
  },
  {
   "metadata": {
    "ExecuteTime": {
     "end_time": "2025-06-01T13:19:04.329058Z",
     "start_time": "2025-06-01T13:19:04.326195Z"
    }
   },
   "cell_type": "code",
   "source": "data.shape",
   "id": "47fd6dc741f50298",
   "outputs": [
    {
     "data": {
      "text/plain": [
       "(3694, 13)"
      ]
     },
     "execution_count": 17,
     "metadata": {},
     "output_type": "execute_result"
    }
   ],
   "execution_count": 17
  },
  {
   "metadata": {
    "ExecuteTime": {
     "end_time": "2025-06-01T13:21:19.132093Z",
     "start_time": "2025-06-01T13:21:19.128134Z"
    }
   },
   "cell_type": "code",
   "source": "# data['other_colors_binary'] = data['other_colors'].map({'Yes': 1, 'No': 0})",
   "id": "cb0be2c8455db9ed",
   "outputs": [],
   "execution_count": 18
  },
  {
   "metadata": {
    "ExecuteTime": {
     "end_time": "2025-06-01T13:21:57.950479Z",
     "start_time": "2025-06-01T13:21:57.936186Z"
    }
   },
   "cell_type": "code",
   "source": "data['old_price'].unique()",
   "id": "3d336a0c0ba4e473",
   "outputs": [
    {
     "data": {
      "text/plain": [
       "array(['No old price', 'SR 2,375', 'SR 295', 'SR 175', 'SR 995',\n",
       "       'SR 1,385', 'SR 445', 'SR 925', 'SR 2,205', 'SR 895', 'SR 2,435',\n",
       "       'SR 125', 'SR 1,595', 'SR 2,880', 'SR 940', 'SR 800', 'SR 1,995',\n",
       "       'SR 3,245', 'SR 8,735', 'SR 2,310', 'SR 2,560', 'SR 3,760',\n",
       "       'SR 3,130', 'SR 9,745', 'SR 1,885', 'SR 3,265', 'SR 50/4 pack',\n",
       "       'SR 1,450', 'SR 250', 'SR 1,590', 'SR 2,360', 'SR 4,040',\n",
       "       'SR 1,715', 'SR 2,100', 'SR 2,395', 'SR 1,250', 'SR 5,610',\n",
       "       'SR 7,225', 'SR 2,795', 'SR 8,540', 'SR 1,950', 'SR 5,400',\n",
       "       'SR 375', 'SR 5,045', 'SR 5,640', 'SR 3,665', 'SR 2,095',\n",
       "       'SR 2,495', 'SR 9,430', 'SR 6,530', 'SR 138', 'SR 350', 'SR 1,023',\n",
       "       'SR 437', 'SR 1,390', 'SR 50', 'SR 595', 'SR 275', 'SR 395',\n",
       "       'SR 26', 'SR 695', 'SR 645', 'SR 649', 'SR 232', 'SR 750', 'SR 30',\n",
       "       'SR 892', 'SR 10', 'SR 490', 'SR 4,185', 'SR 655', 'SR 27',\n",
       "       'SR 455', 'SR 7', 'SR 657', 'SR 1,120', 'SR 237', 'SR 22',\n",
       "       'SR 1,180', 'SR 15', 'SR 10/4 pack', 'SR 2,138', 'SR 452',\n",
       "       'SR 2,605', 'SR 55', 'SR 65', 'SR 444', 'SR 732', 'SR 266',\n",
       "       'SR 2,485', 'SR 438', 'SR 550', 'SR 1,948', 'SR 1,865', 'SR 178',\n",
       "       'SR 840', 'SR 1,098', 'SR 530', 'SR 785', 'SR 205', 'SR 446',\n",
       "       'SR 951', 'SR 326', 'SR 310', 'SR 1,277', 'SR 627', 'SR 557',\n",
       "       'SR 587', 'SR 340', 'SR 776', 'SR 1,378', 'SR 671', 'SR 977',\n",
       "       'SR 981', 'SR 1,365', 'SR 569', 'SR 345', 'SR 690', 'SR 380',\n",
       "       'SR 370', 'SR 1,395', 'SR 432', 'SR 795', 'SR 1,505', 'SR 845',\n",
       "       'SR 1,307', 'SR 1,190', 'SR 1,695', 'SR 1,650', 'SR 45',\n",
       "       'SR 1,895', 'SR 1,182', 'SR 2,985', 'SR 745', 'SR 225', 'SR 75',\n",
       "       'SR 99', 'SR 1,315', 'SR 20', 'SR 1,300', 'SR 19', 'SR 545',\n",
       "       'SR 640', 'SR 1,620', 'SR 915', 'SR 95', 'SR 35', 'SR 325',\n",
       "       'SR 1,835', 'SR 425', 'SR 263', 'SR 105', 'SR 1,645', 'SR 1,109',\n",
       "       'SR 3,945', 'SR 1,099', 'SR 3,790', 'SR 1,495', 'SR 383', 'SR 699',\n",
       "       'SR 2,175', 'SR 3,250', 'SR 1,045', 'SR 2,125', 'SR 4,475',\n",
       "       'SR 2,045', 'SR 349', 'SR 4,445', 'SR 2,275', 'SR 179', 'SR 525',\n",
       "       'SR 1,625', 'SR 570', 'SR 2,325', 'SR 1,150', 'SR 635', 'SR 1,125',\n",
       "       'SR 575', 'SR 300', 'SR 2,350', 'SR 625', 'SR 475', 'SR 400',\n",
       "       'SR 505', 'SR 1,225', 'SR 1,925', 'SR 1,200', 'SR 775', 'SR 1,525',\n",
       "       'SR 2,050', 'SR 725', 'SR 1,325', 'SR 500', 'SR 1,975', 'SR 1,350',\n",
       "       'SR 520', 'SR 435', 'SR 59', 'SR 185', 'SR 1,193', 'SR 3,208',\n",
       "       'SR 519', 'SR 3,965', 'SR 29', 'SR 2,745', 'SR 2,165', 'SR 1,295',\n",
       "       'SR 3,145', 'SR 39', 'SR 2,105', 'SR 752', 'SR 2,368', 'SR 24',\n",
       "       'SR 2,225', 'SR 855', 'SR 1,243', 'SR 3,269', 'SR 445/2 pack',\n",
       "       'SR 3,735', 'SR 540', 'SR 3,025', 'SR 2,945', 'SR 1,535',\n",
       "       'SR 1,010', 'SR 1,570', 'SR 3,045', 'SR 1,545', 'SR 1,345',\n",
       "       'SR 4,125', 'SR 5,725', 'SR 2,525', 'SR 1,210', 'SR 2,075',\n",
       "       'SR 2,995', 'SR 8,350', 'SR 2,295', 'SR 215', 'SR 100', 'SR 6,795',\n",
       "       'SR 150', 'SR 8,475', 'SR 200', 'SR 100/4 pack', 'SR 2,875',\n",
       "       'SR 4,870', 'SR 130', 'SR 5,275', 'SR 850', 'SR 6,875', 'SR 4,495',\n",
       "       'SR 175/2 pack', 'SR 4,750', 'SR 145', 'SR 1,275', 'SR 5,755',\n",
       "       'SR 9,985', 'SR 5,145', 'SR 4,235', 'SR 6,625', 'SR 1,600',\n",
       "       'SR 6,785', 'SR 3,885', 'SR 1,700', 'SR 7,245', 'SR 3,370',\n",
       "       'SR 450', 'SR 2,695', 'SR 5,560', 'SR 8,000', 'SR 7,700',\n",
       "       'SR 2,900', 'SR 4,885', 'SR 4,450', 'SR 5,890', 'SR 5,215',\n",
       "       'SR 7,785', 'SR 1,675', 'SR 3,995', 'SR 9,685', 'SR 315', 'SR 90',\n",
       "       'SR 955', 'SR 265', 'SR 865', 'SR 235', 'SR 85', 'SR 390',\n",
       "       'SR 410', 'SR 495', 'SR 1,400', 'SR 2,240', 'SR 385', 'SR 7,090',\n",
       "       'SR 6,590', 'SR 240', 'SR 6,660', 'SR 8,180', 'SR 4,140',\n",
       "       'SR 4,090', 'SR 3,690', 'SR 900', 'SR 2,590', 'SR 7,380',\n",
       "       'SR 3,585', 'SR 360', 'SR 420', 'SR 1,090', 'SR 2,010', 'SR 2,155',\n",
       "       'SR 2,230', 'SR 2,770', 'SR 2,580', 'SR 1,230', 'SR 1,420',\n",
       "       'SR 1,030', 'SR 3,425', 'SR 3,275', 'SR 535', 'SR 885', 'SR 2,870',\n",
       "       'SR 2,760', 'SR 2,220', 'SR 1,985', 'SR 780', 'SR 660', 'SR 1,735',\n",
       "       'SR 4,920', 'SR 4,490', 'SR 3,435', 'SR 980', 'SR 1,580', 'SR 730',\n",
       "       'SR 2,245', 'SR 5,975', 'SR 2,270', 'SR 3,040', 'SR 3,535',\n",
       "       'SR 910', 'SR 3,500', 'SR 3,440', 'SR 2,565', 'SR 4,195',\n",
       "       'SR 1,355', 'SR 965', 'SR 1,145', 'SR 1,785', 'SR 3,375',\n",
       "       'SR 1,655', 'SR 3,490', 'SR 2,035', 'SR 890', 'SR 2,815', 'SR 765',\n",
       "       'SR 2,090', 'SR 2,830', 'SR 2,750', 'SR 2,235', 'SR 4,510',\n",
       "       'SR 2,160', 'SR 3,290', 'SR 1,460', 'SR 1,815', 'SR 820',\n",
       "       'SR 1,755', 'SR 1,050'], dtype=object)"
      ]
     },
     "execution_count": 21,
     "metadata": {},
     "output_type": "execute_result"
    }
   ],
   "execution_count": 21
  },
  {
   "metadata": {
    "ExecuteTime": {
     "end_time": "2025-06-01T13:24:48.645814Z",
     "start_time": "2025-06-01T13:24:48.638478Z"
    }
   },
   "cell_type": "code",
   "source": "data['old_price'].isna().sum()",
   "id": "c3b725d8121c52a7",
   "outputs": [
    {
     "data": {
      "text/plain": [
       "np.int64(0)"
      ]
     },
     "execution_count": 29,
     "metadata": {},
     "output_type": "execute_result"
    }
   ],
   "execution_count": 29
  },
  {
   "metadata": {
    "ExecuteTime": {
     "end_time": "2025-06-01T13:25:29.131092Z",
     "start_time": "2025-06-01T13:25:29.128534Z"
    }
   },
   "cell_type": "code",
   "source": "data['old_price'] = data['old_price'].replace('No old price', 'NaN')",
   "id": "2826024c29716caf",
   "outputs": [],
   "execution_count": 33
  },
  {
   "metadata": {
    "ExecuteTime": {
     "end_time": "2025-06-01T13:25:30.081330Z",
     "start_time": "2025-06-01T13:25:30.074217Z"
    }
   },
   "cell_type": "code",
   "source": "data['old_price'].value_counts()",
   "id": "425591ac54869363",
   "outputs": [
    {
     "data": {
      "text/plain": [
       "old_price\n",
       "SR 995      12\n",
       "SR 1,385    11\n",
       "SR 595      10\n",
       "SR 275       8\n",
       "SR 2,375     7\n",
       "            ..\n",
       "SR 2,350     1\n",
       "SR 1,925     1\n",
       "SR 1,200     1\n",
       "SR 1,975     1\n",
       "SR 1,050     1\n",
       "Name: count, Length: 364, dtype: int64"
      ]
     },
     "execution_count": 34,
     "metadata": {},
     "output_type": "execute_result"
    }
   ],
   "execution_count": 34
  },
  {
   "metadata": {
    "ExecuteTime": {
     "end_time": "2025-06-01T13:28:50.179737Z",
     "start_time": "2025-06-01T13:28:50.167151Z"
    }
   },
   "cell_type": "code",
   "source": "data['old_price'] = data['old_price'].astype(str)",
   "id": "a27b0dd5e634d0a5",
   "outputs": [],
   "execution_count": 39
  },
  {
   "metadata": {
    "ExecuteTime": {
     "end_time": "2025-06-01T13:28:53.569695Z",
     "start_time": "2025-06-01T13:28:53.560352Z"
    }
   },
   "cell_type": "code",
   "source": "data['old_price'].value_counts()",
   "id": "f34837ce0e0b13b9",
   "outputs": [
    {
     "data": {
      "text/plain": [
       "old_price\n",
       "nan         3040\n",
       "SR 995        12\n",
       "SR 1,385      11\n",
       "SR 595        10\n",
       "SR 275         8\n",
       "            ... \n",
       "SR 3,145       1\n",
       "SR 39          1\n",
       "SR 2,105       1\n",
       "SR 752         1\n",
       "SR 1,050       1\n",
       "Name: count, Length: 365, dtype: int64"
      ]
     },
     "execution_count": 40,
     "metadata": {},
     "output_type": "execute_result"
    }
   ],
   "execution_count": 40
  },
  {
   "metadata": {
    "ExecuteTime": {
     "end_time": "2025-06-01T13:29:35.838285Z",
     "start_time": "2025-06-01T13:29:35.826090Z"
    }
   },
   "cell_type": "code",
   "source": "data['old_price'] = data['old_price'].str.replace('SR', '', regex=False)",
   "id": "39e9f913df80da7d",
   "outputs": [],
   "execution_count": 41
  },
  {
   "metadata": {
    "ExecuteTime": {
     "end_time": "2025-06-01T13:29:40.508998Z",
     "start_time": "2025-06-01T13:29:40.502408Z"
    }
   },
   "cell_type": "code",
   "source": "data['old_price'].value_counts()",
   "id": "74a148353a9b94db",
   "outputs": [
    {
     "data": {
      "text/plain": [
       "old_price\n",
       "nan       3040\n",
       " 995        12\n",
       " 1,385      11\n",
       " 595        10\n",
       " 275         8\n",
       "          ... \n",
       " 3,145       1\n",
       " 39          1\n",
       " 2,105       1\n",
       " 752         1\n",
       " 1,050       1\n",
       "Name: count, Length: 365, dtype: int64"
      ]
     },
     "execution_count": 42,
     "metadata": {},
     "output_type": "execute_result"
    }
   ],
   "execution_count": 42
  },
  {
   "metadata": {
    "ExecuteTime": {
     "end_time": "2025-06-01T13:35:49.141016Z",
     "start_time": "2025-06-01T13:35:49.127952Z"
    }
   },
   "cell_type": "code",
   "source": "data['old_price'] = pd.to_numeric(data['old_price'], errors='coerce')",
   "id": "e2580ef10d84503d",
   "outputs": [],
   "execution_count": 47
  },
  {
   "metadata": {
    "ExecuteTime": {
     "end_time": "2025-06-01T13:41:25.436264Z",
     "start_time": "2025-06-01T13:41:25.428940Z"
    }
   },
   "cell_type": "code",
   "source": "data['old_price'].isna().value_counts()",
   "id": "137177a6c8a6a8f5",
   "outputs": [
    {
     "data": {
      "text/plain": [
       "old_price\n",
       "True     3379\n",
       "False     315\n",
       "Name: count, dtype: int64"
      ]
     },
     "execution_count": 51,
     "metadata": {},
     "output_type": "execute_result"
    }
   ],
   "execution_count": 51
  },
  {
   "metadata": {
    "ExecuteTime": {
     "end_time": "2025-06-01T13:47:09.050591Z",
     "start_time": "2025-06-01T13:47:09.038821Z"
    }
   },
   "cell_type": "code",
   "source": [
    "# Number of null records are more than 90% of the values. So better to drop the column\n",
    "data = data.drop(['old_price'], axis=1)"
   ],
   "id": "914a9833ef18a92a",
   "outputs": [],
   "execution_count": 52
  },
  {
   "metadata": {
    "ExecuteTime": {
     "end_time": "2025-06-01T13:48:48.772442Z",
     "start_time": "2025-06-01T13:48:48.743643Z"
    }
   },
   "cell_type": "code",
   "source": "data.info()",
   "id": "d6f4a7d096d86e2f",
   "outputs": [
    {
     "name": "stdout",
     "output_type": "stream",
     "text": [
      "<class 'pandas.core.frame.DataFrame'>\n",
      "Index: 3694 entries, 0 to 3693\n",
      "Data columns (total 12 columns):\n",
      " #   Column             Non-Null Count  Dtype  \n",
      "---  ------             --------------  -----  \n",
      " 0   item_id            3694 non-null   int64  \n",
      " 1   name               3694 non-null   object \n",
      " 2   category           3694 non-null   object \n",
      " 3   price              3694 non-null   float64\n",
      " 4   sellable_online    3694 non-null   bool   \n",
      " 5   link               3694 non-null   object \n",
      " 6   other_colors       3694 non-null   object \n",
      " 7   short_description  3694 non-null   object \n",
      " 8   designer           3694 non-null   object \n",
      " 9   depth              2231 non-null   float64\n",
      " 10  height             2706 non-null   float64\n",
      " 11  width              3105 non-null   float64\n",
      "dtypes: bool(1), float64(4), int64(1), object(6)\n",
      "memory usage: 479.0+ KB\n"
     ]
    }
   ],
   "execution_count": 53
  },
  {
   "metadata": {
    "ExecuteTime": {
     "end_time": "2025-06-01T13:50:02.116871Z",
     "start_time": "2025-06-01T13:50:02.112289Z"
    }
   },
   "cell_type": "code",
   "source": "# data.drop(['link', 'short_description'], axis=1, inplace=True)",
   "id": "220913151e6b640c",
   "outputs": [],
   "execution_count": 58
  },
  {
   "metadata": {
    "ExecuteTime": {
     "end_time": "2025-06-01T13:49:34.446268Z",
     "start_time": "2025-06-01T13:49:34.440356Z"
    }
   },
   "cell_type": "code",
   "source": "data.isna().sum()",
   "id": "d6a23a39311c390f",
   "outputs": [
    {
     "data": {
      "text/plain": [
       "item_id               0\n",
       "name                  0\n",
       "category              0\n",
       "price                 0\n",
       "sellable_online       0\n",
       "other_colors          0\n",
       "designer              0\n",
       "depth              1463\n",
       "height              988\n",
       "width               589\n",
       "dtype: int64"
      ]
     },
     "execution_count": 56,
     "metadata": {},
     "output_type": "execute_result"
    }
   ],
   "execution_count": 56
  },
  {
   "metadata": {
    "ExecuteTime": {
     "end_time": "2025-06-01T13:50:30.426826Z",
     "start_time": "2025-06-01T13:50:30.412004Z"
    }
   },
   "cell_type": "code",
   "source": [
    "data['depth'] = data.depth.fillna(data.depth.mean())\n",
    "data['height'] = data.height.fillna(data.height.mean())\n",
    "data['width'] = data.width.fillna(data.width.mean())"
   ],
   "id": "d79f4b489e1e2ec0",
   "outputs": [],
   "execution_count": 59
  },
  {
   "metadata": {
    "ExecuteTime": {
     "end_time": "2025-06-01T13:51:03.227441Z",
     "start_time": "2025-06-01T13:51:03.206273Z"
    }
   },
   "cell_type": "code",
   "source": "data.describe()",
   "id": "efba55f9e04e78c1",
   "outputs": [
    {
     "data": {
      "text/plain": [
       "            item_id        price        depth       height        width\n",
       "count  3.694000e+03  3694.000000  3694.000000  3694.000000  3694.000000\n",
       "mean   4.863240e+07  1078.208419    54.379202   101.679970   104.470853\n",
       "std    2.888709e+07  1374.652494    23.279877    52.289926    65.214931\n",
       "min    5.848700e+04     3.000000     1.000000     1.000000     1.000000\n",
       "25%    2.039057e+07   180.900000    42.000000    74.000000    60.000000\n",
       "50%    4.928808e+07   544.700000    54.379202   101.679970    90.000000\n",
       "75%    7.040357e+07  1429.500000    54.379202   101.679970   120.000000\n",
       "max    9.993262e+07  9585.000000   257.000000   700.000000   420.000000"
      ],
      "text/html": [
       "<div>\n",
       "<style scoped>\n",
       "    .dataframe tbody tr th:only-of-type {\n",
       "        vertical-align: middle;\n",
       "    }\n",
       "\n",
       "    .dataframe tbody tr th {\n",
       "        vertical-align: top;\n",
       "    }\n",
       "\n",
       "    .dataframe thead th {\n",
       "        text-align: right;\n",
       "    }\n",
       "</style>\n",
       "<table border=\"1\" class=\"dataframe\">\n",
       "  <thead>\n",
       "    <tr style=\"text-align: right;\">\n",
       "      <th></th>\n",
       "      <th>item_id</th>\n",
       "      <th>price</th>\n",
       "      <th>depth</th>\n",
       "      <th>height</th>\n",
       "      <th>width</th>\n",
       "    </tr>\n",
       "  </thead>\n",
       "  <tbody>\n",
       "    <tr>\n",
       "      <th>count</th>\n",
       "      <td>3.694000e+03</td>\n",
       "      <td>3694.000000</td>\n",
       "      <td>3694.000000</td>\n",
       "      <td>3694.000000</td>\n",
       "      <td>3694.000000</td>\n",
       "    </tr>\n",
       "    <tr>\n",
       "      <th>mean</th>\n",
       "      <td>4.863240e+07</td>\n",
       "      <td>1078.208419</td>\n",
       "      <td>54.379202</td>\n",
       "      <td>101.679970</td>\n",
       "      <td>104.470853</td>\n",
       "    </tr>\n",
       "    <tr>\n",
       "      <th>std</th>\n",
       "      <td>2.888709e+07</td>\n",
       "      <td>1374.652494</td>\n",
       "      <td>23.279877</td>\n",
       "      <td>52.289926</td>\n",
       "      <td>65.214931</td>\n",
       "    </tr>\n",
       "    <tr>\n",
       "      <th>min</th>\n",
       "      <td>5.848700e+04</td>\n",
       "      <td>3.000000</td>\n",
       "      <td>1.000000</td>\n",
       "      <td>1.000000</td>\n",
       "      <td>1.000000</td>\n",
       "    </tr>\n",
       "    <tr>\n",
       "      <th>25%</th>\n",
       "      <td>2.039057e+07</td>\n",
       "      <td>180.900000</td>\n",
       "      <td>42.000000</td>\n",
       "      <td>74.000000</td>\n",
       "      <td>60.000000</td>\n",
       "    </tr>\n",
       "    <tr>\n",
       "      <th>50%</th>\n",
       "      <td>4.928808e+07</td>\n",
       "      <td>544.700000</td>\n",
       "      <td>54.379202</td>\n",
       "      <td>101.679970</td>\n",
       "      <td>90.000000</td>\n",
       "    </tr>\n",
       "    <tr>\n",
       "      <th>75%</th>\n",
       "      <td>7.040357e+07</td>\n",
       "      <td>1429.500000</td>\n",
       "      <td>54.379202</td>\n",
       "      <td>101.679970</td>\n",
       "      <td>120.000000</td>\n",
       "    </tr>\n",
       "    <tr>\n",
       "      <th>max</th>\n",
       "      <td>9.993262e+07</td>\n",
       "      <td>9585.000000</td>\n",
       "      <td>257.000000</td>\n",
       "      <td>700.000000</td>\n",
       "      <td>420.000000</td>\n",
       "    </tr>\n",
       "  </tbody>\n",
       "</table>\n",
       "</div>"
      ]
     },
     "execution_count": 63,
     "metadata": {},
     "output_type": "execute_result"
    }
   ],
   "execution_count": 63
  },
  {
   "metadata": {
    "ExecuteTime": {
     "end_time": "2025-06-01T13:53:35.004043Z",
     "start_time": "2025-06-01T13:53:34.997406Z"
    }
   },
   "cell_type": "code",
   "source": [
    "import seaborn as sns\n",
    "import matplotlib.pyplot as plt\n"
   ],
   "id": "aded20557bf6ad75",
   "outputs": [],
   "execution_count": 68
  },
  {
   "metadata": {
    "ExecuteTime": {
     "end_time": "2025-06-01T13:55:51.634381Z",
     "start_time": "2025-06-01T13:55:51.509924Z"
    }
   },
   "cell_type": "code",
   "source": [
    "# data1 = data.isnull()\n",
    "sns.displot(data['depth'])"
   ],
   "id": "a976c2e4a9a8956b",
   "outputs": [
    {
     "data": {
      "text/plain": [
       "<seaborn.axisgrid.FacetGrid at 0x119d39430>"
      ]
     },
     "execution_count": 75,
     "metadata": {},
     "output_type": "execute_result"
    },
    {
     "data": {
      "text/plain": [
       "<Figure size 500x500 with 1 Axes>"
      ],
      "image/png": "[encoded data removed]"
     },
     "metadata": {},
     "output_type": "display_data"
    }
   ],
   "execution_count": 75
  },
  {
   "metadata": {
    "ExecuteTime": {
     "end_time": "2025-06-01T13:58:03.396712Z",
     "start_time": "2025-06-01T13:58:03.376708Z"
    }
   },
   "cell_type": "code",
   "source": "data.head()",
   "id": "da7af6e079969a48",
   "outputs": [
    {
     "data": {
      "text/plain": [
       "    item_id                   name       category   price  sellable_online  \\\n",
       "0  90420332               FREKVENS  Bar furniture   265.0             True   \n",
       "1    368814              NORDVIKEN  Bar furniture   995.0            False   \n",
       "2   9333523  NORDVIKEN / NORDVIKEN  Bar furniture  2095.0            False   \n",
       "3  80155205                   STIG  Bar furniture    69.0             True   \n",
       "4  30180504                NORBERG  Bar furniture   225.0             True   \n",
       "\n",
       "  other_colors              designer      depth     height       width  \n",
       "0           No  Nicholai Wiig Hansen  54.379202   99.00000   51.000000  \n",
       "1           No     Francis Cayouette  54.379202  105.00000   80.000000  \n",
       "2           No     Francis Cayouette  54.379202  101.67997  104.470853  \n",
       "3          Yes         Henrik Preutz  50.000000  100.00000   60.000000  \n",
       "4           No        Marcus Arvonen  60.000000   43.00000   74.000000  "
      ],
      "text/html": [
       "<div>\n",
       "<style scoped>\n",
       "    .dataframe tbody tr th:only-of-type {\n",
       "        vertical-align: middle;\n",
       "    }\n",
       "\n",
       "    .dataframe tbody tr th {\n",
       "        vertical-align: top;\n",
       "    }\n",
       "\n",
       "    .dataframe thead th {\n",
       "        text-align: right;\n",
       "    }\n",
       "</style>\n",
       "<table border=\"1\" class=\"dataframe\">\n",
       "  <thead>\n",
       "    <tr style=\"text-align: right;\">\n",
       "      <th></th>\n",
       "      <th>item_id</th>\n",
       "      <th>name</th>\n",
       "      <th>category</th>\n",
       "      <th>price</th>\n",
       "      <th>sellable_online</th>\n",
       "      <th>other_colors</th>\n",
       "      <th>designer</th>\n",
       "      <th>depth</th>\n",
       "      <th>height</th>\n",
       "      <th>width</th>\n",
       "    </tr>\n",
       "  </thead>\n",
       "  <tbody>\n",
       "    <tr>\n",
       "      <th>0</th>\n",
       "      <td>90420332</td>\n",
       "      <td>FREKVENS</td>\n",
       "      <td>Bar furniture</td>\n",
       "      <td>265.0</td>\n",
       "      <td>True</td>\n",
       "      <td>No</td>\n",
       "      <td>Nicholai Wiig Hansen</td>\n",
       "      <td>54.379202</td>\n",
       "      <td>99.00000</td>\n",
       "      <td>51.000000</td>\n",
       "    </tr>\n",
       "    <tr>\n",
       "      <th>1</th>\n",
       "      <td>368814</td>\n",
       "      <td>NORDVIKEN</td>\n",
       "      <td>Bar furniture</td>\n",
       "      <td>995.0</td>\n",
       "      <td>False</td>\n",
       "      <td>No</td>\n",
       "      <td>Francis Cayouette</td>\n",
       "      <td>54.379202</td>\n",
       "      <td>105.00000</td>\n",
       "      <td>80.000000</td>\n",
       "    </tr>\n",
       "    <tr>\n",
       "      <th>2</th>\n",
       "      <td>9333523</td>\n",
       "      <td>NORDVIKEN / NORDVIKEN</td>\n",
       "      <td>Bar furniture</td>\n",
       "      <td>2095.0</td>\n",
       "      <td>False</td>\n",
       "      <td>No</td>\n",
       "      <td>Francis Cayouette</td>\n",
       "      <td>54.379202</td>\n",
       "      <td>101.67997</td>\n",
       "      <td>104.470853</td>\n",
       "    </tr>\n",
       "    <tr>\n",
       "      <th>3</th>\n",
       "      <td>80155205</td>\n",
       "      <td>STIG</td>\n",
       "      <td>Bar furniture</td>\n",
       "      <td>69.0</td>\n",
       "      <td>True</td>\n",
       "      <td>Yes</td>\n",
       "      <td>Henrik Preutz</td>\n",
       "      <td>50.000000</td>\n",
       "      <td>100.00000</td>\n",
       "      <td>60.000000</td>\n",
       "    </tr>\n",
       "    <tr>\n",
       "      <th>4</th>\n",
       "      <td>30180504</td>\n",
       "      <td>NORBERG</td>\n",
       "      <td>Bar furniture</td>\n",
       "      <td>225.0</td>\n",
       "      <td>True</td>\n",
       "      <td>No</td>\n",
       "      <td>Marcus Arvonen</td>\n",
       "      <td>60.000000</td>\n",
       "      <td>43.00000</td>\n",
       "      <td>74.000000</td>\n",
       "    </tr>\n",
       "  </tbody>\n",
       "</table>\n",
       "</div>"
      ]
     },
     "execution_count": 76,
     "metadata": {},
     "output_type": "execute_result"
    }
   ],
   "execution_count": 76
  },
  {
   "metadata": {
    "ExecuteTime": {
     "end_time": "2025-06-01T13:59:38.262136Z",
     "start_time": "2025-06-01T13:59:38.259375Z"
    }
   },
   "cell_type": "code",
   "source": "data.rename(columns={'sellable_online': 'onlinesell'}, inplace=True)",
   "id": "3394cc3e4eea81fa",
   "outputs": [],
   "execution_count": 80
  },
  {
   "metadata": {
    "ExecuteTime": {
     "end_time": "2025-06-01T13:59:39.047986Z",
     "start_time": "2025-06-01T13:59:39.042775Z"
    }
   },
   "cell_type": "code",
   "source": "data.head()",
   "id": "ff498386ad0cf3b0",
   "outputs": [
    {
     "data": {
      "text/plain": [
       "    item_id                   name       category   price  onlinesell  \\\n",
       "0  90420332               FREKVENS  Bar furniture   265.0        True   \n",
       "1    368814              NORDVIKEN  Bar furniture   995.0       False   \n",
       "2   9333523  NORDVIKEN / NORDVIKEN  Bar furniture  2095.0       False   \n",
       "3  80155205                   STIG  Bar furniture    69.0        True   \n",
       "4  30180504                NORBERG  Bar furniture   225.0        True   \n",
       "\n",
       "  other_colors              designer      depth     height       width  \n",
       "0           No  Nicholai Wiig Hansen  54.379202   99.00000   51.000000  \n",
       "1           No     Francis Cayouette  54.379202  105.00000   80.000000  \n",
       "2           No     Francis Cayouette  54.379202  101.67997  104.470853  \n",
       "3          Yes         Henrik Preutz  50.000000  100.00000   60.000000  \n",
       "4           No        Marcus Arvonen  60.000000   43.00000   74.000000  "
      ],
      "text/html": [
       "<div>\n",
       "<style scoped>\n",
       "    .dataframe tbody tr th:only-of-type {\n",
       "        vertical-align: middle;\n",
       "    }\n",
       "\n",
       "    .dataframe tbody tr th {\n",
       "        vertical-align: top;\n",
       "    }\n",
       "\n",
       "    .dataframe thead th {\n",
       "        text-align: right;\n",
       "    }\n",
       "</style>\n",
       "<table border=\"1\" class=\"dataframe\">\n",
       "  <thead>\n",
       "    <tr style=\"text-align: right;\">\n",
       "      <th></th>\n",
       "      <th>item_id</th>\n",
       "      <th>name</th>\n",
       "      <th>category</th>\n",
       "      <th>price</th>\n",
       "      <th>onlinesell</th>\n",
       "      <th>other_colors</th>\n",
       "      <th>designer</th>\n",
       "      <th>depth</th>\n",
       "      <th>height</th>\n",
       "      <th>width</th>\n",
       "    </tr>\n",
       "  </thead>\n",
       "  <tbody>\n",
       "    <tr>\n",
       "      <th>0</th>\n",
       "      <td>90420332</td>\n",
       "      <td>FREKVENS</td>\n",
       "      <td>Bar furniture</td>\n",
       "      <td>265.0</td>\n",
       "      <td>True</td>\n",
       "      <td>No</td>\n",
       "      <td>Nicholai Wiig Hansen</td>\n",
       "      <td>54.379202</td>\n",
       "      <td>99.00000</td>\n",
       "      <td>51.000000</td>\n",
       "    </tr>\n",
       "    <tr>\n",
       "      <th>1</th>\n",
       "      <td>368814</td>\n",
       "      <td>NORDVIKEN</td>\n",
       "      <td>Bar furniture</td>\n",
       "      <td>995.0</td>\n",
       "      <td>False</td>\n",
       "      <td>No</td>\n",
       "      <td>Francis Cayouette</td>\n",
       "      <td>54.379202</td>\n",
       "      <td>105.00000</td>\n",
       "      <td>80.000000</td>\n",
       "    </tr>\n",
       "    <tr>\n",
       "      <th>2</th>\n",
       "      <td>9333523</td>\n",
       "      <td>NORDVIKEN / NORDVIKEN</td>\n",
       "      <td>Bar furniture</td>\n",
       "      <td>2095.0</td>\n",
       "      <td>False</td>\n",
       "      <td>No</td>\n",
       "      <td>Francis Cayouette</td>\n",
       "      <td>54.379202</td>\n",
       "      <td>101.67997</td>\n",
       "      <td>104.470853</td>\n",
       "    </tr>\n",
       "    <tr>\n",
       "      <th>3</th>\n",
       "      <td>80155205</td>\n",
       "      <td>STIG</td>\n",
       "      <td>Bar furniture</td>\n",
       "      <td>69.0</td>\n",
       "      <td>True</td>\n",
       "      <td>Yes</td>\n",
       "      <td>Henrik Preutz</td>\n",
       "      <td>50.000000</td>\n",
       "      <td>100.00000</td>\n",
       "      <td>60.000000</td>\n",
       "    </tr>\n",
       "    <tr>\n",
       "      <th>4</th>\n",
       "      <td>30180504</td>\n",
       "      <td>NORBERG</td>\n",
       "      <td>Bar furniture</td>\n",
       "      <td>225.0</td>\n",
       "      <td>True</td>\n",
       "      <td>No</td>\n",
       "      <td>Marcus Arvonen</td>\n",
       "      <td>60.000000</td>\n",
       "      <td>43.00000</td>\n",
       "      <td>74.000000</td>\n",
       "    </tr>\n",
       "  </tbody>\n",
       "</table>\n",
       "</div>"
      ]
     },
     "execution_count": 81,
     "metadata": {},
     "output_type": "execute_result"
    }
   ],
   "execution_count": 81
  },
  {
   "metadata": {},
   "cell_type": "code",
   "outputs": [],
   "execution_count": null,
   "source": "",
   "id": "8071937167652902"
  }
 ],
 "metadata": {
  "kernelspec": {
   "display_name": "Python 3",
   "language": "python",
   "name": "python3"
  },
  "language_info": {
   "codemirror_mode": {
    "name": "ipython",
    "version": 2
   },
   "file_extension": ".py",
   "mimetype": "text/x-python",
   "name": "python",
   "nbconvert_exporter": "python",
   "pygments_lexer": "ipython2",
   "version": "2.7.6"
  }
 },
 "nbformat": 4,
 "nbformat_minor": 5
}
